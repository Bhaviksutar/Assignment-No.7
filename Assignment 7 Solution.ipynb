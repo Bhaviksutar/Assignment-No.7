{
 "cells": [
  {
   "cell_type": "markdown",
   "id": "35d6d957",
   "metadata": {},
   "source": [
    "# Assignment No. 7"
   ]
  },
  {
   "cell_type": "markdown",
   "id": "d931b210",
   "metadata": {},
   "source": [
    "#Question No. 1:- What is the name of the feature responsible for generating Regex objects?\n",
    "\n",
    "Ans-\n",
    "we can use re.compile() function returns regex objects\n",
    "\n"
   ]
  },
  {
   "cell_type": "markdown",
   "id": "d9ba3a09",
   "metadata": {},
   "source": [
    "#Question No.2 :- Why do raw strings often appear in Regex objects?\n",
    "\n",
    "Ans-\n",
    "Raw strings are used so that backslashes do not have to be escaped."
   ]
  },
  {
   "cell_type": "markdown",
   "id": "4e2dd7c3",
   "metadata": {},
   "source": [
    "#Question No. 3:- What is the return value of the search() method?\n",
    "\n",
    "Ans-\n",
    "search() method will return match objects"
   ]
  },
  {
   "cell_type": "markdown",
   "id": "264bf766",
   "metadata": {},
   "source": [
    "#Question No. 4:- From a Match item, how do you get the actual strings that match the pattern?\n",
    "\n",
    "Ans-\n",
    "group() method returns strings of the matched item"
   ]
  },
  {
   "cell_type": "markdown",
   "id": "9c15461d",
   "metadata": {},
   "source": [
    "#Question No. 5:- In the regex which created from the r'(\\d\\d\\d)-(\\d\\d\\d-\\d\\d\\d\\d)', what does group zero cover? Group 2? Group 1?\n",
    "\n",
    "Ans-\n",
    "Group 0 is the entire match, group 1 covers the first set of parentheses\n",
    "\n",
    "and group 2 covers the second set of parentheses.\n"
   ]
  },
  {
   "cell_type": "markdown",
   "id": "5161e82e",
   "metadata": {},
   "source": [
    "#Question No. 6:- In standard expression syntax, parentheses and intervals have distinct meanings. How can you tell a regex that you want it to fit real parentheses and periods?\n",
    "\n",
    "Ans-\n",
    "Periods and parantheses can be escaped with a backslash: \\, \\(, and \\)"
   ]
  },
  {
   "cell_type": "markdown",
   "id": "e71e87d1",
   "metadata": {},
   "source": [
    "#Question No. 7:- The findall() method returns a string list or a list of string tuples. What causes it to return one of the two options?\n",
    "\n",
    "Ans-\n",
    "If the regex has no groups, a list of strings is returned. If the regex has groups, a list of tuples of strings is returned."
   ]
  },
  {
   "cell_type": "markdown",
   "id": "b30a2401",
   "metadata": {},
   "source": [
    "#Question No. 8:- In standard expressions, what does the | character mean?\n",
    "\n",
    "Ans-\n",
    "The | character signifies matching \"either, or\" between two groups."
   ]
  },
  {
   "cell_type": "markdown",
   "id": "6fb93a58",
   "metadata": {},
   "source": [
    "#Question No. 9:- In regular expressions, what does the character stand for?\n",
    "\n",
    "Ans-\n",
    "The ? character can either mean \"match zero or one of the preceding group\" or be used to signify nongreedy matching."
   ]
  },
  {
   "cell_type": "markdown",
   "id": "6d016e39",
   "metadata": {},
   "source": [
    "#Question No. 10:- In regular expressions, what is the difference between the + and * characters?\n",
    "\n",
    "Ans-\n",
    "The + matches one or more. The * matches zero or more."
   ]
  },
  {
   "cell_type": "markdown",
   "id": "592a33e4",
   "metadata": {},
   "source": [
    "#Question No. 11:- What is the difference between {4} and {4,5} in regular expression?\n",
    "\n",
    "Ans-\n",
    "The {3} matches exactly three instances of the preceding group. The {3,5} matches between three and five instances."
   ]
  },
  {
   "cell_type": "markdown",
   "id": "01a339ee",
   "metadata": {},
   "source": [
    "#Question No. 12:- What do you mean by the \\d, \\w, and \\s shorthand character classes signify in regular expressions?\n",
    "\n",
    "Ans-\n",
    "The \\d, \\w, and \\s shorthand character classes match a single digit, word, or space character"
   ]
  },
  {
   "cell_type": "markdown",
   "id": "f0d25595",
   "metadata": {},
   "source": [
    "#Question No. 13:- What do means by \\D, \\W, and \\S shorthand character classes signify in regular expressions?\n",
    "\n",
    "Ans-\n",
    "The \\D, \\W, and \\S shorthand character classes match a single character that is not a digit, word, or space character\n"
   ]
  },
  {
   "cell_type": "markdown",
   "id": "59185c17",
   "metadata": {},
   "source": [
    "#Question No. 14:- What is the difference between .*? and .*?\n",
    "\n",
    "Ans-\n",
    "The . performs a greedy match, and the .? performs a nongreedy match."
   ]
  },
  {
   "cell_type": "markdown",
   "id": "cbac2b45",
   "metadata": {},
   "source": [
    "#Question No. 15:- What is the syntax for matching both numbers and lowercase letters with a character class?\n",
    "\n",
    "Ans-\n",
    "Either [0-9a-z] or [a-z0-9]"
   ]
  },
  {
   "cell_type": "markdown",
   "id": "2a98ded2",
   "metadata": {},
   "source": [
    "#Question No. 16:- What is the procedure for making a normal expression in regax case insensitive?\n",
    "\n",
    "Ans-\n",
    "Passing re.I or re.IGNORECASE as the second argument to re.compile() will make the matching case insensitive."
   ]
  },
  {
   "cell_type": "markdown",
   "id": "834bcabb",
   "metadata": {},
   "source": [
    "#Question No. 17:- What does the . character normally match? What does it match if re.DOTALL is passed as 2nd argument in re.compile()?\n",
    "\n",
    "Ans-\n",
    "The . character normally matches any character except the newline character. If re.DOTALL is passed as the second argument to re.compile(), then the dot will also match newline characters."
   ]
  },
  {
   "cell_type": "code",
   "execution_count": 16,
   "id": "ff3fadd6",
   "metadata": {},
   "outputs": [
    {
     "data": {
      "text/plain": [
       "'X drummers, X pipers, five rings, X hens'"
      ]
     },
     "execution_count": 16,
     "metadata": {},
     "output_type": "execute_result"
    }
   ],
   "source": [
    "#Question No. 18:- If numReg = re.compile(r'\\d+'), what will numRegex.sub('X', '11 drummers, 10 pipers, five rings, 4 hen') return?\n",
    "\n",
    "numRegex = re.compile(r'\\d+')\n",
    "\n",
    "numRegex.sub('X', '12 drummers, 11 pipers, five rings, 3 hens') "
   ]
  },
  {
   "cell_type": "markdown",
   "id": "1b368998",
   "metadata": {},
   "source": [
    "#Question No. 19:- What does passing re.VERBOSE as the 2nd argument to re.compile() allow to do?\n",
    "\n",
    "Ans-\n",
    "The re.VERBOSE argument allows you to add whitespace and comments to the string passed to re.compile()."
   ]
  },
  {
   "cell_type": "markdown",
   "id": "3bfa6148",
   "metadata": {},
   "source": [
    "#Question no. 20:- How would you write a regex that match a number with comma for every three digits? It must match the given following:\n",
    "\n",
    "Ans-\n",
    "re.compile(r'^\\d{1,3}(,\\d{3})*$') will create this regex, but other regex strings can produce a similar regular expression."
   ]
  },
  {
   "cell_type": "markdown",
   "id": "bfcbe82c",
   "metadata": {},
   "source": [
    "#Question No. 21:- How would you write a regex that matches the full name of someone whose last name is Watanabe? You can assume that the first name that comes before it will always be one word that begins with a capital letter. The regex must match the following:\n",
    "\n",
    "Ans-\n",
    "re.compile(r'[A-Z][a-z]*\\sNakamoto')"
   ]
  },
  {
   "cell_type": "markdown",
   "id": "4462801e",
   "metadata": {},
   "source": [
    "#Question No. 22:- How would you write a regex that matches a sentence where the first word is either Alice, Bob, or Carol; the second word is either eats, pets, or throws; the third word is apples, cats, or baseballs; and the sentence ends with a period? This regex should be case-insensitive. It must match the following:\n",
    "\n",
    "'Alice eats apples.'\n",
    "\n",
    "'Bob pets cats.'\n",
    "\n",
    "'Carol throws baseballs.'\n",
    "\n",
    "'Alice throws Apples.'\n",
    "\n",
    "'BOB EATS CATS.'\n",
    "\n",
    "\n",
    "\n",
    "'Robocop eats apples.'\n",
    "\n",
    "'ALICE THROWS FOOTBALLS.'\n",
    "\n",
    "'Carol eats 7 cats.'\n",
    "\n",
    "Ans-  re.compile(r'(Alice|Bob|Carol)\\s(eats|pets|throws)\\s(apples|cats|baseballs)\\.', re.IGNORECASE)\n"
   ]
  },
  {
   "cell_type": "code",
   "execution_count": null,
   "id": "328b3f3d",
   "metadata": {},
   "outputs": [],
   "source": []
  }
 ],
 "metadata": {
  "kernelspec": {
   "display_name": "Python 3 (ipykernel)",
   "language": "python",
   "name": "python3"
  },
  "language_info": {
   "codemirror_mode": {
    "name": "ipython",
    "version": 3
   },
   "file_extension": ".py",
   "mimetype": "text/x-python",
   "name": "python",
   "nbconvert_exporter": "python",
   "pygments_lexer": "ipython3",
   "version": "3.9.7"
  }
 },
 "nbformat": 4,
 "nbformat_minor": 5
}
